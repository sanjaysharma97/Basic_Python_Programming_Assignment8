{
 "cells": [
  {
   "cell_type": "markdown",
   "id": "337505fa",
   "metadata": {},
   "source": [
    "# 1. Write a Python Program to Add Two Matrices?\n",
    "\n",
    "ANSWER-"
   ]
  },
  {
   "cell_type": "code",
   "execution_count": 9,
   "id": "714e5982",
   "metadata": {},
   "outputs": [
    {
     "name": "stdout",
     "output_type": "stream",
     "text": [
      "enter the number of rows: 3\n",
      "enter the number of columns: 2\n",
      "enter the elements of first matrix: \n",
      "1\n",
      "2\n",
      "3\n",
      "4\n",
      "2\n",
      "3\n",
      "first matrix is: \n",
      "[1, 2]\n",
      "[3, 4]\n",
      "[2, 3]\n",
      "enter the elements of second matrix: \n",
      "4\n",
      "6\n",
      "87\n",
      "8\n",
      "-8\n",
      "1\n",
      "second matrix is: \n",
      "[4, 6]\n",
      "[87, 8]\n",
      "[-8, 1]\n",
      "the sum of two matrices is : \n",
      "[5, 8]\n",
      "[90, 12]\n",
      "[-6, 4]\n"
     ]
    }
   ],
   "source": [
    "R=int(input(\"enter the number of rows: \"))\n",
    "C=int(input(\"enter the number of columns: \"))\n",
    "\n",
    "print(\"enter the elements of first matrix: \")\n",
    "matrix_a=[[int(input()) for i in range(C)] for i in range(R)]\n",
    "print(\"first matrix is: \")\n",
    "for n in matrix_a:\n",
    "    print(n)\n",
    "    \n",
    "print(\"enter the elements of second matrix: \")\n",
    "matrix_b=[[int(input()) for i in range(C)] for i in range(R)]\n",
    "print(\"second matrix is: \")\n",
    "for n in matrix_b:\n",
    "\n",
    "    print(n)\n",
    "    \n",
    "result=[[0 for i in range(C)] for i in range(R)]\n",
    "for i in range(R):\n",
    "    for j in range(C):\n",
    "        result[i][j]=matrix_a[i][j]+matrix_b[i][j]\n",
    "        \n",
    "print(\"the sum of two matrices is : \")\n",
    "for r in result:\n",
    "    print(r)\n"
   ]
  },
  {
   "cell_type": "markdown",
   "id": "14fdbc91",
   "metadata": {},
   "source": [
    "# 2. Write a Python Program to Multiply Two Matrices?\n",
    "\n",
    "ANSWER-"
   ]
  },
  {
   "cell_type": "code",
   "execution_count": 19,
   "id": "b187afe0",
   "metadata": {},
   "outputs": [
    {
     "name": "stdout",
     "output_type": "stream",
     "text": [
      "enter numbers of rows: 2\n",
      "enter numbers of columns: 2\n",
      "enter the elements of first matix is: \n",
      "10\n",
      "-2\n",
      "4\n",
      "0\n",
      "the first matrix is: \n",
      "[10, -2]\n",
      "[4, 0]\n",
      "enter the elements of second matrix: \n",
      "3\n",
      "5\n",
      "-2\n",
      "0\n",
      "the second matrix is: \n",
      "[3, 5]\n",
      "[-2, 0]\n",
      "the multiplication of matrices is: \n",
      "[34, 50]\n",
      "[12, 20]\n"
     ]
    }
   ],
   "source": [
    "R=int(input(\"enter numbers of rows: \"))\n",
    "C=int(input(\"enter numbers of columns: \"))\n",
    "print(\"enter the elements of first matix is: \")\n",
    "matrix_a=[[int(input()) for i in range(C)] for i in range(R)]\n",
    "print(\"the first matrix is: \")\n",
    "for n in matrix_a:\n",
    "    print(n)\n",
    "\n",
    "print(\"enter the elements of second matrix: \")\n",
    "matrix_b=[[int(input()) for i in range(C)] for i in range(R)]\n",
    "print(\"the second matrix is: \")\n",
    "for n in matrix_b:\n",
    "    print(n)\n",
    "    \n",
    "result=[[0 for i in range(C)] for i in range(R)]  \n",
    "for i in range(R):\n",
    "    for j in range(C):\n",
    "        for k in range(C):\n",
    "            result[i][j]+=matrix_a[i][k]*matrix_b[k][j]\n",
    "print(\"the multiplication of matrices is: \")\n",
    "for r in result:\n",
    "    print(r)\n",
    "        \n",
    " \n"
   ]
  },
  {
   "cell_type": "markdown",
   "id": "c648e97a",
   "metadata": {},
   "source": [
    "# 3. Write a Python Program to Transpose a Matrix?\n",
    "\n",
    "ANSWER-"
   ]
  },
  {
   "cell_type": "code",
   "execution_count": 8,
   "id": "ff5b53dc",
   "metadata": {},
   "outputs": [
    {
     "name": "stdout",
     "output_type": "stream",
     "text": [
      "enter the numbers of rows: 3\n",
      "enter the numbers of columns: 2\n",
      "enter the elements of first matix is:\n",
      "6\n",
      "-1\n",
      "3\n",
      "7\n",
      "80\n",
      "0\n",
      "the first matrix is : \n",
      "[6, -1]\n",
      "[3, 7]\n",
      "[80, 0]\n",
      "transpose: \n",
      "[6, 3, 80]\n",
      "[-1, 7, 0]\n"
     ]
    }
   ],
   "source": [
    "R=int(input(\"enter the numbers of rows: \"))\n",
    "C=int(input(\"enter the numbers of columns: \"))\n",
    "print(\"enter the elements of first matix is:\")\n",
    "matrix_a=[[int(input()) for i in range(C)] for i in range(R)]\n",
    "print(\"the first matrix is : \")\n",
    "for n in matrix_a:\n",
    "    print(n)   \n",
    "transpose=[[matrix_a[j][i] for j in range(len(matrix_a))] for i in range(len(matrix_a[0]))]\n",
    "print(\"transpose: \")\n",
    "for t in transpose:\n",
    "    print(t)"
   ]
  },
  {
   "cell_type": "markdown",
   "id": "736da156",
   "metadata": {},
   "source": [
    "# 4. Write a Python Program to Sort Words in Alphabetic Order?\n",
    "\n",
    "ANSWER-"
   ]
  },
  {
   "cell_type": "code",
   "execution_count": 14,
   "id": "a012e4b6",
   "metadata": {},
   "outputs": [
    {
     "name": "stdout",
     "output_type": "stream",
     "text": [
      "enter the words: Ineuron gives best environment than others\n",
      "Best Environment Gives Ineuron Others Than\n"
     ]
    }
   ],
   "source": [
    "def sortword():\n",
    "    string=input(\"enter the words: \").title()\n",
    "    sorted_string=sorted(string.split(' '))\n",
    "    print(' '.join(sorted_string))\n",
    "    \n",
    "sortword()    \n",
    "    \n",
    "    "
   ]
  },
  {
   "cell_type": "markdown",
   "id": "fe5120dc",
   "metadata": {},
   "source": [
    "# 5. Write a Python Program to Remove Punctuation From a String?\n",
    "\n",
    "ANSWER-"
   ]
  },
  {
   "cell_type": "code",
   "execution_count": 16,
   "id": "65a94895",
   "metadata": {},
   "outputs": [
    {
     "name": "stdout",
     "output_type": "stream",
     "text": [
      "enter the string: Ineuron @ # is the :'=! best []{}platform&,./\\ for practical \"learning.\n",
      "after removing punctuations:  Ineuron   is the = best platform for practical learning\n"
     ]
    }
   ],
   "source": [
    "def removepunctuation():\n",
    "    punctuations='''!@#$%^&*()_-:;,?'\"./\\~[]{}'''\n",
    "    string=input(\"enter the string: \")\n",
    "    string1=''\n",
    "    for i in string:\n",
    "        if i not in punctuations:\n",
    "            string1+=i\n",
    "    print(\"after removing punctuations: \",string1)\n",
    "\n",
    "removepunctuation()    "
   ]
  },
  {
   "cell_type": "code",
   "execution_count": null,
   "id": "d06619a4",
   "metadata": {},
   "outputs": [],
   "source": [
    "################################################################"
   ]
  }
 ],
 "metadata": {
  "kernelspec": {
   "display_name": "Python 3 (ipykernel)",
   "language": "python",
   "name": "python3"
  },
  "language_info": {
   "codemirror_mode": {
    "name": "ipython",
    "version": 3
   },
   "file_extension": ".py",
   "mimetype": "text/x-python",
   "name": "python",
   "nbconvert_exporter": "python",
   "pygments_lexer": "ipython3",
   "version": "3.9.12"
  }
 },
 "nbformat": 4,
 "nbformat_minor": 5
}
